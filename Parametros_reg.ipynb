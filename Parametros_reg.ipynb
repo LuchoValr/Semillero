{
  "nbformat": 4,
  "nbformat_minor": 0,
  "metadata": {
    "colab": {
      "name": "Parametros_reg.ipynb",
      "provenance": [],
      "collapsed_sections": [],
      "authorship_tag": "ABX9TyOipC1P/iNFtMJeaFPxSEex",
      "include_colab_link": true
    },
    "kernelspec": {
      "name": "python3",
      "display_name": "Python 3"
    },
    "language_info": {
      "name": "python"
    }
  },
  "cells": [
    {
      "cell_type": "markdown",
      "metadata": {
        "id": "view-in-github",
        "colab_type": "text"
      },
      "source": [
        "<a href=\"https://colab.research.google.com/github/LuchoValr/Semillero/blob/main/Parametros_reg.ipynb\" target=\"_parent\"><img src=\"https://colab.research.google.com/assets/colab-badge.svg\" alt=\"Open In Colab\"/></a>"
      ]
    },
    {
      "cell_type": "markdown",
      "source": [
        "##Generador de parametros de una regresion por medio de datos\n"
      ],
      "metadata": {
        "id": "3lAExuT6QMGb"
      }
    },
    {
      "cell_type": "code",
      "execution_count": 98,
      "metadata": {
        "id": "sCXtoThJB2J3"
      },
      "outputs": [],
      "source": [
        "import numpy as np\n",
        "def vectores(y,x):\n",
        "  #Se crean variables sumatorias\n",
        "  s1=0\n",
        "  s2=0\n",
        "  u=0\n",
        "  y_hat=0\n",
        "  #Sacamos las medias de cada lista\n",
        "  y1=np.mean(y)\n",
        "  x1=np.mean(x)\n",
        "  #Se crea bucle para operar b1\n",
        "  for i, w in enumerate(x):\n",
        "      s1 += x[i]*(y[i]-y1)\n",
        "      s2 += x[i]*(x[i]-x1)\n",
        "      #Declaramos variables B1 y B0 \n",
        "      B1=s1/s2\n",
        "      B0=(y1-B1)*x1\n",
        "      #Residuales\n",
        "      u = y[i]-B0-(B1*x[i])\n",
        "      print(f'Residual {u} de {y[i]} y {x[i]}')\n",
        "      #Valores ajustados\n",
        "      y_hat = y[i]-(u)\n",
        "      print(f'Valor ajustado {y_hat} de {y[i]} y {x[i]}')\n",
        "      print('--'*10)\n",
        "  return B1,B0"
      ]
    },
    {
      "cell_type": "code",
      "source": [
        "y =[1,2,3,4,5,6]\n",
        "x =[1,2,3,4,5,6]"
      ],
      "metadata": {
        "id": "0l3BFwblKdNJ"
      },
      "execution_count": 117,
      "outputs": []
    },
    {
      "cell_type": "code",
      "source": [
        "vectores(y,x)"
      ],
      "metadata": {
        "colab": {
          "base_uri": "https://localhost:8080/"
        },
        "id": "avZM_43qE4KJ",
        "outputId": "9fc462fa-3474-49e1-a33e-09fb964afe46"
      },
      "execution_count": 118,
      "outputs": [
        {
          "output_type": "stream",
          "name": "stdout",
          "text": [
            "Residual -8.75 de 1 y 1\n",
            "Valor ajustado 9.75 de 1 y 1\n",
            "--------------------\n",
            "Residual -8.75 de 2 y 2\n",
            "Valor ajustado 10.75 de 2 y 2\n",
            "--------------------\n",
            "Residual -8.75 de 3 y 3\n",
            "Valor ajustado 11.75 de 3 y 3\n",
            "--------------------\n",
            "Residual -8.75 de 4 y 4\n",
            "Valor ajustado 12.75 de 4 y 4\n",
            "--------------------\n",
            "Residual -8.75 de 5 y 5\n",
            "Valor ajustado 13.75 de 5 y 5\n",
            "--------------------\n",
            "Residual -8.75 de 6 y 6\n",
            "Valor ajustado 14.75 de 6 y 6\n",
            "--------------------\n"
          ]
        },
        {
          "output_type": "execute_result",
          "data": {
            "text/plain": [
              "(1.0, 8.75)"
            ]
          },
          "metadata": {},
          "execution_count": 118
        }
      ]
    },
    {
      "cell_type": "code",
      "source": [
        ""
      ],
      "metadata": {
        "id": "IRLiv6IpF_ww"
      },
      "execution_count": 108,
      "outputs": []
    }
  ]
}